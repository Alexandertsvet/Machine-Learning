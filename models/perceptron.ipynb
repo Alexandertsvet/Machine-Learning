{
 "cells": [
  {
   "cell_type": "markdown",
   "metadata": {},
   "source": [
    "# Перцептрон розенблатта\n",
    "```\n",
    "import numpy as np\n",
    "\n",
    "\n",
    "class Perceptron(object):\n",
    "    \"\"\"\n",
    "    Классификация на основе перцептрона.\n",
    "    \"\"\"\n",
    "    def __init__(self, eta=0.01, n_iter=50, random_state=42):\n",
    "        self.eta = eta\n",
    "        self.n_iter = n_iter\n",
    "        self.random_state = random_state\n",
    "\n",
    "    def fit(self, X, y):\n",
    "        \"\"\"\n",
    "        Обучение.\n",
    "        \"\"\"\n",
    "        rgen = np.random.RandomState(self.random_state)\n",
    "        self.w_ = rgen.normal(loc=0.0, scale=0.01, size=1+X.shape[1])\n",
    "        self.errors_ = []\n",
    "        for _ in range(self.n_iter):\n",
    "            errors = 0\n",
    "            for xi, target in zip(X, y):\n",
    "                update = self.eta*(target-self.predict(xi))\n",
    "                self.w_[1:] += update*xi\n",
    "                self.w_[0] += update\n",
    "                errors += int(update != 0)\n",
    "            self.errors_.append(errors)\n",
    "        return self\n",
    "        \n",
    "    def net_input(self, X):\n",
    "        \"\"\"\n",
    "        Вычисление общего входа.\n",
    "        \"\"\"\n",
    "        return np.dot(X, self.w_[1:]) + self.w_[0]\n",
    "\n",
    "    def predict(self, X):\n",
    "        \"\"\"\n",
    "        Возврашает метку класса после одной итерации\n",
    "        \"\"\"\n",
    "        return np.where(self.net_input(X) >= 0.0, 1, -1)\n",
    "```\n",
    "\n",
    "Перцептрон Розенблатта:\n",
    "* инициализация весов небольшими случайными значениями\n",
    "* для каждого обучающего образца $x^{(i)}$\n",
    "\t* вычислить выходное значение $\\check{y}$\n",
    "\t* обновить веса.\n",
    "\n",
    "$w_j$ = $w_j$+$\\Delta$$w_j$\n",
    "$\\Delta$$w_j$=$\\eta$($y^{(i)}$-$\\check{y}^{(i)}$)*$x^{(i)}_j$\n",
    "где \n",
    "* $\\eta$ скорость обучения( константа 0.0 - 1.0)\n",
    "* ${y}^{(i)}$ метка класса i\n",
    "* $\\check{y}^{(i)}$ спрогнозированная метка класса\n"
   ]
  }
 ],
 "metadata": {
  "kernelspec": {
   "display_name": "Python 3",
   "language": "python",
   "name": "python3"
  },
  "language_info": {
   "codemirror_mode": {
    "name": "ipython",
    "version": 3
   },
   "file_extension": ".py",
   "mimetype": "text/x-python",
   "name": "python",
   "nbconvert_exporter": "python",
   "pygments_lexer": "ipython3",
   "version": "3.10.6"
  }
 },
 "nbformat": 4,
 "nbformat_minor": 2
}
